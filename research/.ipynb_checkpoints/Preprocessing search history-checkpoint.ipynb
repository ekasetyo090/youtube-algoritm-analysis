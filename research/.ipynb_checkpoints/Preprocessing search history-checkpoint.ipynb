{
 "cells": [
  {
   "cell_type": "markdown",
   "id": "831a438d-d70f-47a0-bc5b-babcbdf0e2ed",
   "metadata": {},
   "source": [
    "# Preprocessing Search History"
   ]
  },
  {
   "cell_type": "markdown",
   "id": "86ed1723-b2ea-4b61-b2f8-22558f9bd6ce",
   "metadata": {},
   "source": [
    "## Import Library"
   ]
  },
  {
   "cell_type": "code",
   "execution_count": 1,
   "id": "5ef666ec-840a-4120-893c-00eb776ddba5",
   "metadata": {
    "tags": []
   },
   "outputs": [],
   "source": [
    "import pandas as pd\n",
    "import json\n",
    "pd.options.mode.copy_on_write = True \n",
    "pd.set_option('display.max_rows', None)\n",
    "pd.set_option('display.max_columns', None)"
   ]
  },
  {
   "cell_type": "markdown",
   "id": "3774a811-ff55-4e12-887f-f707623d0512",
   "metadata": {},
   "source": [
    "## Load Data"
   ]
  },
  {
   "cell_type": "code",
   "execution_count": 2,
   "id": "2a954a14-7f4d-4b03-a4ce-3eb85eb67555",
   "metadata": {
    "tags": []
   },
   "outputs": [],
   "source": [
    "with open('C:/Users/snsv/Documents/Data Analyst/personal youtube analysis/data/history/search-history.json',encoding='utf-8') as f:\n",
    "    df = pd.DataFrame.from_records((json.load(f)))"
   ]
  },
  {
   "cell_type": "markdown",
   "id": "91326eda-4716-482a-bf77-3bf65b6df501",
   "metadata": {},
   "source": [
    "## Data Info"
   ]
  },
  {
   "cell_type": "code",
   "execution_count": 3,
   "id": "1a6a3f36-b402-459d-87a0-c001d2e9650a",
   "metadata": {},
   "outputs": [
    {
     "name": "stdout",
     "output_type": "stream",
     "text": [
      "<class 'pandas.core.frame.DataFrame'>\n",
      "RangeIndex: 62 entries, 0 to 61\n",
      "Data columns (total 8 columns):\n",
      " #   Column            Non-Null Count  Dtype \n",
      "---  ------            --------------  ----- \n",
      " 0   header            62 non-null     object\n",
      " 1   title             62 non-null     object\n",
      " 2   titleUrl          62 non-null     object\n",
      " 3   time              62 non-null     object\n",
      " 4   products          62 non-null     object\n",
      " 5   activityControls  62 non-null     object\n",
      " 6   description       42 non-null     object\n",
      " 7   details           42 non-null     object\n",
      "dtypes: object(8)\n",
      "memory usage: 4.0+ KB\n"
     ]
    }
   ],
   "source": [
    "df.info()"
   ]
  },
  {
   "cell_type": "markdown",
   "id": "2f231621-d793-4d35-9e20-f2f050a92980",
   "metadata": {},
   "source": [
    "## Statistics Description"
   ]
  },
  {
   "cell_type": "code",
   "execution_count": 4,
   "id": "a4465058-147d-498e-903f-fb8f99d59a20",
   "metadata": {
    "tags": []
   },
   "outputs": [
    {
     "data": {
      "text/html": [
       "<div>\n",
       "<style scoped>\n",
       "    .dataframe tbody tr th:only-of-type {\n",
       "        vertical-align: middle;\n",
       "    }\n",
       "\n",
       "    .dataframe tbody tr th {\n",
       "        vertical-align: top;\n",
       "    }\n",
       "\n",
       "    .dataframe thead th {\n",
       "        text-align: right;\n",
       "    }\n",
       "</style>\n",
       "<table border=\"1\" class=\"dataframe\">\n",
       "  <thead>\n",
       "    <tr style=\"text-align: right;\">\n",
       "      <th></th>\n",
       "      <th>count</th>\n",
       "      <th>unique</th>\n",
       "      <th>top</th>\n",
       "      <th>freq</th>\n",
       "    </tr>\n",
       "  </thead>\n",
       "  <tbody>\n",
       "    <tr>\n",
       "      <th>header</th>\n",
       "      <td>62</td>\n",
       "      <td>1</td>\n",
       "      <td>YouTube</td>\n",
       "      <td>62</td>\n",
       "    </tr>\n",
       "    <tr>\n",
       "      <th>title</th>\n",
       "      <td>62</td>\n",
       "      <td>58</td>\n",
       "      <td>Searched for statquest</td>\n",
       "      <td>3</td>\n",
       "    </tr>\n",
       "    <tr>\n",
       "      <th>titleUrl</th>\n",
       "      <td>62</td>\n",
       "      <td>58</td>\n",
       "      <td>https://www.youtube.com/results?search_query=s...</td>\n",
       "      <td>3</td>\n",
       "    </tr>\n",
       "    <tr>\n",
       "      <th>time</th>\n",
       "      <td>62</td>\n",
       "      <td>62</td>\n",
       "      <td>2024-03-13T15:09:56.510Z</td>\n",
       "      <td>1</td>\n",
       "    </tr>\n",
       "    <tr>\n",
       "      <th>products</th>\n",
       "      <td>62</td>\n",
       "      <td>1</td>\n",
       "      <td>[YouTube]</td>\n",
       "      <td>62</td>\n",
       "    </tr>\n",
       "    <tr>\n",
       "      <th>activityControls</th>\n",
       "      <td>62</td>\n",
       "      <td>2</td>\n",
       "      <td>[Web &amp; App Activity, YouTube watch history, Yo...</td>\n",
       "      <td>42</td>\n",
       "    </tr>\n",
       "    <tr>\n",
       "      <th>description</th>\n",
       "      <td>42</td>\n",
       "      <td>40</td>\n",
       "      <td>Watched at 7:52 PM</td>\n",
       "      <td>2</td>\n",
       "    </tr>\n",
       "    <tr>\n",
       "      <th>details</th>\n",
       "      <td>42</td>\n",
       "      <td>1</td>\n",
       "      <td>[{'name': 'From Google Ads'}]</td>\n",
       "      <td>42</td>\n",
       "    </tr>\n",
       "  </tbody>\n",
       "</table>\n",
       "</div>"
      ],
      "text/plain": [
       "                 count unique  \\\n",
       "header              62      1   \n",
       "title               62     58   \n",
       "titleUrl            62     58   \n",
       "time                62     62   \n",
       "products            62      1   \n",
       "activityControls    62      2   \n",
       "description         42     40   \n",
       "details             42      1   \n",
       "\n",
       "                                                                top freq  \n",
       "header                                                      YouTube   62  \n",
       "title                                        Searched for statquest    3  \n",
       "titleUrl          https://www.youtube.com/results?search_query=s...    3  \n",
       "time                                       2024-03-13T15:09:56.510Z    1  \n",
       "products                                                  [YouTube]   62  \n",
       "activityControls  [Web & App Activity, YouTube watch history, Yo...   42  \n",
       "description                                      Watched at 7:52 PM    2  \n",
       "details                               [{'name': 'From Google Ads'}]   42  "
      ]
     },
     "execution_count": 4,
     "metadata": {},
     "output_type": "execute_result"
    }
   ],
   "source": [
    "df.describe().transpose()"
   ]
  },
  {
   "cell_type": "markdown",
   "id": "8eec0cfa-5028-4733-8be9-efcb0daf9ec0",
   "metadata": {},
   "source": [
    "## Missing Value"
   ]
  },
  {
   "cell_type": "code",
   "execution_count": 5,
   "id": "e35443b7-50ef-45a6-90a9-3f31841fd60a",
   "metadata": {},
   "outputs": [
    {
     "data": {
      "text/plain": [
       "header               0\n",
       "title                0\n",
       "titleUrl             0\n",
       "time                 0\n",
       "products             0\n",
       "activityControls     0\n",
       "description         20\n",
       "details             20\n",
       "dtype: int64"
      ]
     },
     "execution_count": 5,
     "metadata": {},
     "output_type": "execute_result"
    }
   ],
   "source": [
    "df.isna().sum()"
   ]
  },
  {
   "cell_type": "markdown",
   "id": "912d8e92-0bdb-4380-a1e0-237b409501d5",
   "metadata": {},
   "source": [
    "## Value Count"
   ]
  },
  {
   "cell_type": "code",
   "execution_count": 6,
   "id": "ea349f0d-03ac-4ebf-8e08-4d5ae0e4c831",
   "metadata": {},
   "outputs": [
    {
     "name": "stdout",
     "output_type": "stream",
     "text": [
      "\n",
      "------ Column header------\n",
      "------ Total Lenght 62------\n",
      "header\n",
      "YouTube    62\n",
      "Name: count, dtype: int64\n",
      "\n",
      "------ Column title------\n",
      "------ Total Lenght 62------\n",
      "title\n",
      "Searched for statquest                                                                         3\n",
      "Watched 【Astral Tale】Classic MMORPG is Back with Global Servers!                               2\n",
      "Searched for shinmei                                                                           2\n",
      "Watched Perbandingan Sewa vs Beli                                                              1\n",
      "Watched Ramadan 2024 2024 15 Games Nutrimart                                                   1\n",
      "Watched The future of testing, here today                                                      1\n",
      "Watched FLOYA - Yume (OFFICIAL VIDEO)                                                          1\n",
      "Watched YouTube Premium EMU MIX 1mon Alot Stock 12s horiz 1920x1080 16-9 id ID IDR             1\n",
      "Watched WordPress Hosting | Hostinger.co.id                                                    1\n",
      "Searched for toho color                                                                        1\n",
      "Watched Grammarly Basics: What You Can Get for Free                                            1\n",
      "Watched Satsuma 2023                                                                           1\n",
      "Watched 祭唄／浦島坂田船                                                                               1\n",
      "Watched Cantik Saat Hangout dengan Rambut Sehat & Hitam Berkilau Pakai Sunsilk Black Shine!    1\n",
      "Searched for hanani natte                                                                      1\n",
      "Searched for kaca biru                                                                         1\n",
      "Searched for resist and bite                                                                   1\n",
      "Watched 【Astral Tale】Embark on a New Chapter in Astral Tale | Play Now!                        1\n",
      "Watched Nutella Ramadan 15s 2024                                                               1\n",
      "Watched MO_00222A01 169 EN WJW 20231208 808 PC角标 EN                                            1\n",
      "Watched Write With The Tone You Want Using Grammarly's Generative AI                           1\n",
      "Searched for zoltraak                                                                          1\n",
      "Watched インドネシア語 no389 ngs upd 1920 1080                                                        1\n",
      "Searched for dr richard lee                                                                    1\n",
      "Watched GOSENDHEMAT Flat Ongkir 5RB, kirim-kirim di bulan Ramadan!                             1\n",
      "Watched Azarine Ceraspray Sunscreen SPF 50 PA+++ with Lee Minho                                1\n",
      "Searched for kurnia meiga                                                                      1\n",
      "Searched for deddy corbuzier                                                                   1\n",
      "Searched for gawr gura                                                                         1\n",
      "Watched Become Ethereal  - Ghost of You  - Official Music Video                                1\n",
      "Searched for muse indonesia frieren                                                            1\n",
      "Watched MO_00131T01 169 EN ZZN 20230927 808 PC角标 EN                                            1\n",
      "Watched Titan Revenge - NPCs showcase                                                          1\n",
      "Watched Adonan Sulit Tercampur?                                                                1\n",
      "Watched #BeraniLebih Lawan Minyak Kayak Asnawi Mangkualam!                                     1\n",
      "Watched Boost Teamwork | Get Your Tone Just Right                                              1\n",
      "Searched for frieren                                                                           1\n",
      "Searched for kobo kanaeru                                                                      1\n",
      "Searched for muse in classroom of the elite                                                    1\n",
      "Watched #SiapStrepsils, Legakan Tenggorokan di tengah Polusi!                                  1\n",
      "Watched Hikmah Puasa - Eling Penuh Hikmah Teaser 15s                                           1\n",
      "Watched https://www.youtube.com/watch?v=                                                       1\n",
      "Watched Play Big Time Today!                                                                   1\n",
      "Watched Free Diving Version - Del Monte Cocomilk & Pandan Latte                                1\n",
      "Watched D 0844B EN 169 QG^XJ ZZ 240205 S2 DND 战斗                                               1\n",
      "Watched Managed WordPress-Hosting | Hostinger.co.id                                            1\n",
      "Watched no356 ngs 1920 1080                                                                    1\n",
      "Searched for stardenburdenhardenbart                                                           1\n",
      "Watched Big Time: How to get the  $BIGTIME Token                                               1\n",
      "Watched no355 ngs 1920 1080                                                                    1\n",
      "Watched Satsuma 2023 with keyboard                                                             1\n",
      "Watched D 0849B EN 169 QG^XJ ZZ 240202 S2 DND 跑图                                               1\n",
      "Watched インドネシア語 no391 ngs 1920 1080                                                            1\n",
      "Watched no357 ngs 1920 1080                                                                    1\n",
      "Watched hw_introdungeonrooms40a_h_all_97                                                       1\n",
      "Watched MO_00162B01 169 EN LY 20231027 车水马龙+录屏 剪辑                                              1\n",
      "Watched Belanja di Lazada Ramadan Sale, Kapan Lagi Semurah Ini!                                1\n",
      "Searched for tensorflow                                                                        1\n",
      "Name: count, dtype: int64\n",
      "\n",
      "------ Column titleUrl------\n",
      "------ Total Lenght 62------\n",
      "titleUrl\n",
      "https://www.youtube.com/results?search_query=statquest                          3\n",
      "https://www.youtube.com/watch?v=0QxsWY-oRss                                     2\n",
      "https://www.youtube.com/results?search_query=shinmei                            2\n",
      "https://www.youtube.com/watch?v=8hMqBDG4OMk                                     1\n",
      "https://www.youtube.com/watch?v=KZAXbZElRiw                                     1\n",
      "https://www.youtube.com/watch?v=d3zLqsDyeXo                                     1\n",
      "https://www.youtube.com/watch?v=KBcFHw2C7oI                                     1\n",
      "https://www.youtube.com/watch?v=jlmdyyT_qDU                                     1\n",
      "https://www.youtube.com/watch?v=HuuvoFwQVtA                                     1\n",
      "https://www.youtube.com/results?search_query=toho+color                         1\n",
      "https://www.youtube.com/watch?v=ptdpux0rSgY                                     1\n",
      "https://www.youtube.com/watch?v=ArDF6vT9OfE                                     1\n",
      "https://www.youtube.com/watch?v=BmR81BZYxUk                                     1\n",
      "https://www.youtube.com/watch?v=nxvYuWaaQu0                                     1\n",
      "https://www.youtube.com/results?search_query=hanani+natte                       1\n",
      "https://www.youtube.com/results?search_query=kaca+biru                          1\n",
      "https://www.youtube.com/results?search_query=resist+and+bite                    1\n",
      "https://www.youtube.com/watch?v=Mo2Hjm1B8aE                                     1\n",
      "https://www.youtube.com/watch?v=qVPf_eRa_Fc                                     1\n",
      "https://www.youtube.com/watch?v=vPwgUll7YRU                                     1\n",
      "https://www.youtube.com/watch?v=dlXyPtEgzI8                                     1\n",
      "https://www.youtube.com/results?search_query=zoltraak                           1\n",
      "https://www.youtube.com/watch?v=F9CldRC_nmA                                     1\n",
      "https://www.youtube.com/results?search_query=dr+richard+lee                     1\n",
      "https://www.youtube.com/watch?v=iXnENgE2Bqs                                     1\n",
      "https://www.youtube.com/watch?v=Tvv9YdCnl0s                                     1\n",
      "https://www.youtube.com/results?search_query=kurnia+meiga                       1\n",
      "https://www.youtube.com/results?search_query=deddy+corbuzier                    1\n",
      "https://www.youtube.com/results?search_query=gawr+gura                          1\n",
      "https://www.youtube.com/watch?v=UMLYQLDj1ds                                     1\n",
      "https://www.youtube.com/results?search_query=muse+indonesia+frieren             1\n",
      "https://www.youtube.com/watch?v=X6i6P16IZJ8                                     1\n",
      "https://www.youtube.com/watch?v=JeUy01rvU2Y                                     1\n",
      "https://www.youtube.com/watch?v=IBokV9_H_W8                                     1\n",
      "https://www.youtube.com/watch?v=eOas12RHAQ4                                     1\n",
      "https://www.youtube.com/watch?v=Jbir6yDKZUE                                     1\n",
      "https://www.youtube.com/results?search_query=frieren                            1\n",
      "https://www.youtube.com/results?search_query=kobo+kanaeru                       1\n",
      "https://www.youtube.com/results?search_query=muse+in+classroom+of+the+elite+    1\n",
      "https://www.youtube.com/watch?v=swdatTSE1LI                                     1\n",
      "https://www.youtube.com/watch?v=_qdo4PMmt6Y                                     1\n",
      "https://www.youtube.com/watch?v=                                                1\n",
      "https://www.youtube.com/watch?v=Epqhcq0DCTs                                     1\n",
      "https://www.youtube.com/watch?v=L3OQW48iLjU                                     1\n",
      "https://www.youtube.com/watch?v=FQxvaZI3CJ8                                     1\n",
      "https://www.youtube.com/watch?v=h3kYt3riaAk                                     1\n",
      "https://www.youtube.com/watch?v=Q267vQtzzxU                                     1\n",
      "https://www.youtube.com/results?search_query=stardenburdenhardenbart            1\n",
      "https://www.youtube.com/watch?v=PxPWVQgMSTM                                     1\n",
      "https://www.youtube.com/watch?v=pR7FjexBhqA                                     1\n",
      "https://www.youtube.com/watch?v=kw7jGRtCXuE                                     1\n",
      "https://www.youtube.com/watch?v=4Gld2L2AT1g                                     1\n",
      "https://www.youtube.com/watch?v=j9JMH9d7EYo                                     1\n",
      "https://www.youtube.com/watch?v=7ZrDOdeZxq4                                     1\n",
      "https://www.youtube.com/watch?v=1cYpZ-4az8E                                     1\n",
      "https://www.youtube.com/watch?v=DKv9mIifZFM                                     1\n",
      "https://www.youtube.com/watch?v=gMZh5YEpDzQ                                     1\n",
      "https://www.youtube.com/results?search_query=tensorflow                         1\n",
      "Name: count, dtype: int64\n",
      "\n",
      "------ Column time------\n",
      "------ Total Lenght 62------\n",
      "time\n",
      "2024-03-13T15:09:56.510Z    1\n",
      "2024-03-11T09:13:41.207Z    1\n",
      "2024-03-12T14:30:27.629Z    1\n",
      "2024-03-12T14:20:11.437Z    1\n",
      "2024-03-12T14:11:01.508Z    1\n",
      "2024-03-12T13:53:12.989Z    1\n",
      "2024-03-12T13:41:52.636Z    1\n",
      "2024-03-12T12:36:57.581Z    1\n",
      "2024-03-12T07:38:58.277Z    1\n",
      "2024-03-12T07:33:24.817Z    1\n",
      "2024-03-11T15:55:31.577Z    1\n",
      "2024-03-11T13:21:41.230Z    1\n",
      "2024-03-11T09:44:24.583Z    1\n",
      "2024-03-11T09:44:10.585Z    1\n",
      "2024-03-11T09:14:48.969Z    1\n",
      "2024-03-11T08:43:37.973Z    1\n",
      "2024-03-13T14:18:15.610Z    1\n",
      "2024-03-11T06:53:38.969Z    1\n",
      "2024-03-11T05:01:25.511Z    1\n",
      "2024-03-11T03:18:57.070Z    1\n",
      "2024-03-11T03:18:44.011Z    1\n",
      "2024-03-10T15:21:05.304Z    1\n",
      "2024-03-10T15:13:10.354Z    1\n",
      "2024-03-09T18:43:16.817Z    1\n",
      "2024-03-09T18:42:56.604Z    1\n",
      "2024-03-09T18:42:12.300Z    1\n",
      "2024-03-09T18:42:01.436Z    1\n",
      "2024-03-09T18:41:38.017Z    1\n",
      "2024-03-09T18:40:57.013Z    1\n",
      "2024-03-09T18:40:30.574Z    1\n",
      "2024-03-12T14:39:51.921Z    1\n",
      "2024-03-12T14:40:10.209Z    1\n",
      "2024-03-12T19:05:18.077Z    1\n",
      "2024-03-12T19:44:35.049Z    1\n",
      "2024-03-13T13:34:04.867Z    1\n",
      "2024-03-13T13:33:57.266Z    1\n",
      "2024-03-13T13:08:35.477Z    1\n",
      "2024-03-13T13:06:36.537Z    1\n",
      "2024-03-13T13:03:03.778Z    1\n",
      "2024-03-13T13:00:56.703Z    1\n",
      "2024-03-13T12:52:41.170Z    1\n",
      "2024-03-13T12:52:23.569Z    1\n",
      "2024-03-13T12:01:41.826Z    1\n",
      "2024-03-13T11:18:51.505Z    1\n",
      "2024-03-13T10:59:34.648Z    1\n",
      "2024-03-13T10:39:01.879Z    1\n",
      "2024-03-13T10:17:08.447Z    1\n",
      "2024-03-13T09:54:07.214Z    1\n",
      "2024-03-13T09:12:49.769Z    1\n",
      "2024-03-13T09:05:55.878Z    1\n",
      "2024-03-13T08:03:58.401Z    1\n",
      "2024-03-13T07:47:02.641Z    1\n",
      "2024-03-13T07:12:50.290Z    1\n",
      "2024-03-13T06:53:35.687Z    1\n",
      "2024-03-13T06:40:14.617Z    1\n",
      "2024-03-13T06:22:14.123Z    1\n",
      "2024-03-13T05:53:08.942Z    1\n",
      "2024-03-12T20:37:02.916Z    1\n",
      "2024-03-12T20:24:20.957Z    1\n",
      "2024-03-12T20:01:54.533Z    1\n",
      "2024-03-12T19:44:46.758Z    1\n",
      "2024-03-09T17:44:07.141Z    1\n",
      "Name: count, dtype: int64\n",
      "\n",
      "------ Column products------\n",
      "------ Total Lenght 62------\n",
      "products\n",
      "[YouTube]    62\n",
      "Name: count, dtype: int64\n",
      "\n",
      "------ Column activityControls------\n",
      "------ Total Lenght 62------\n",
      "activityControls\n",
      "[Web & App Activity, YouTube watch history, YouTube search history]    42\n",
      "[YouTube search history]                                               20\n",
      "Name: count, dtype: int64\n",
      "\n",
      "------ Column description------\n",
      "------ Total Lenght 62------\n",
      "description\n",
      "Watched at 7:52 PM                                                                2\n",
      "Watched at 1:53 PM                                                                2\n",
      "Watched at 8:34 PM                                                                1\n",
      "Watched at 10:55 PM                                                               1\n",
      "Watched at 9:39 PM                                                                1\n",
      "Watched at 9:30 PM                                                                1\n",
      "Watched at 9:20 PM                                                                1\n",
      "Watched at 9:11 PM                                                                1\n",
      "Watched at 8:53 PM                                                                1\n",
      "Watched at 8:41 PM                                                                1\n",
      "Watched at 2:33 PM                                                                1\n",
      "Watched at 8:21 PM                                                                1\n",
      "Watched at 2:05 AM                                                                1\n",
      "Watched at 4:44 PM                                                                1\n",
      "Watched at 4:14 PM                                                                1\n",
      "Watched at 3:43 PM\\nWatched at 11:32 AM                                           1\n",
      "Watched at 12:01 PM                                                               1\n",
      "Watched at 10:18 AM                                                               1\n",
      "Watched at 10:21 PM                                                               1\n",
      "Watched at 1:43 AM                                                                1\n",
      "Watched at 9:40 PM                                                                1\n",
      "Watched at 2:44 AM                                                                1\n",
      "Watched at 8:33 PM                                                                1\n",
      "Watched at 3:01 AM                                                                1\n",
      "Watched at 8:08 PM                                                                1\n",
      "Watched at 7:01 PM                                                                1\n",
      "Watched at 6:18 PM                                                                1\n",
      "Watched at 5:59 PM                                                                1\n",
      "Watched at 5:39 PM                                                                1\n",
      "Watched at 5:17 PM                                                                1\n",
      "Watched at 4:54 PM\\nWatched at 4:15 PM                                            1\n",
      "Watched at 4:05 PM                                                                1\n",
      "Watched at 3:03 PM\\nWatched at 2:29 PM\\nWatched at 3:13 AM\\nWatched at 2:04 AM    1\n",
      "Watched at 2:47 PM                                                                1\n",
      "Watched at 2:12 PM                                                                1\n",
      "Watched at 1:40 PM\\nWatched at 2:33 AM                                            1\n",
      "Watched at 1:22 PM                                                                1\n",
      "Watched at 12:53 PM\\nWatched at 1:47 AM                                           1\n",
      "Watched at 3:24 AM                                                                1\n",
      "Watched at 1:42 AM                                                                1\n",
      "Name: count, dtype: int64\n",
      "\n",
      "------ Column details------\n",
      "------ Total Lenght 62------\n",
      "details\n",
      "[{'name': 'From Google Ads'}]    42\n",
      "Name: count, dtype: int64\n"
     ]
    }
   ],
   "source": [
    "for i in df.columns:\n",
    "    print(f'\\n------ Column {i}------')\n",
    "    print(f'------ Total Lenght {len(df[i])}------')\n",
    "    print(df[i].value_counts())"
   ]
  },
  {
   "cell_type": "markdown",
   "id": "32c724f2-7ec9-4c5c-9198-6328f453a65f",
   "metadata": {},
   "source": [
    "## Header Column"
   ]
  },
  {
   "cell_type": "markdown",
   "id": "29335645-7663-477b-a7de-06388e1433a8",
   "metadata": {},
   "source": [
    "### Drop Header Column"
   ]
  },
  {
   "cell_type": "code",
   "execution_count": 7,
   "id": "7ae0a628-1782-4283-aa1f-cb85a4cde6d3",
   "metadata": {
    "tags": []
   },
   "outputs": [
    {
     "data": {
      "text/html": [
       "<div>\n",
       "<style scoped>\n",
       "    .dataframe tbody tr th:only-of-type {\n",
       "        vertical-align: middle;\n",
       "    }\n",
       "\n",
       "    .dataframe tbody tr th {\n",
       "        vertical-align: top;\n",
       "    }\n",
       "\n",
       "    .dataframe thead th {\n",
       "        text-align: right;\n",
       "    }\n",
       "</style>\n",
       "<table border=\"1\" class=\"dataframe\">\n",
       "  <thead>\n",
       "    <tr style=\"text-align: right;\">\n",
       "      <th></th>\n",
       "      <th>title</th>\n",
       "      <th>titleUrl</th>\n",
       "      <th>time</th>\n",
       "      <th>products</th>\n",
       "      <th>activityControls</th>\n",
       "      <th>description</th>\n",
       "      <th>details</th>\n",
       "    </tr>\n",
       "  </thead>\n",
       "  <tbody>\n",
       "    <tr>\n",
       "      <th>0</th>\n",
       "      <td>Searched for kaca biru</td>\n",
       "      <td>https://www.youtube.com/results?search_query=k...</td>\n",
       "      <td>2024-03-13T15:09:56.510Z</td>\n",
       "      <td>[YouTube]</td>\n",
       "      <td>[YouTube search history]</td>\n",
       "      <td>NaN</td>\n",
       "      <td>NaN</td>\n",
       "    </tr>\n",
       "    <tr>\n",
       "      <th>1</th>\n",
       "      <td>Searched for statquest</td>\n",
       "      <td>https://www.youtube.com/results?search_query=s...</td>\n",
       "      <td>2024-03-13T14:18:15.610Z</td>\n",
       "      <td>[YouTube]</td>\n",
       "      <td>[YouTube search history]</td>\n",
       "      <td>NaN</td>\n",
       "      <td>NaN</td>\n",
       "    </tr>\n",
       "    <tr>\n",
       "      <th>2</th>\n",
       "      <td>Watched Adonan Sulit Tercampur?</td>\n",
       "      <td>https://www.youtube.com/watch?v=IBokV9_H_W8</td>\n",
       "      <td>2024-03-13T13:34:04.867Z</td>\n",
       "      <td>[YouTube]</td>\n",
       "      <td>[Web &amp; App Activity, YouTube watch history, Yo...</td>\n",
       "      <td>Watched at 8:34 PM</td>\n",
       "      <td>[{'name': 'From Google Ads'}]</td>\n",
       "    </tr>\n",
       "    <tr>\n",
       "      <th>3</th>\n",
       "      <td>Watched #BeraniLebih Lawan Minyak Kayak Asnawi...</td>\n",
       "      <td>https://www.youtube.com/watch?v=eOas12RHAQ4</td>\n",
       "      <td>2024-03-13T13:33:57.266Z</td>\n",
       "      <td>[YouTube]</td>\n",
       "      <td>[Web &amp; App Activity, YouTube watch history, Yo...</td>\n",
       "      <td>Watched at 8:33 PM</td>\n",
       "      <td>[{'name': 'From Google Ads'}]</td>\n",
       "    </tr>\n",
       "    <tr>\n",
       "      <th>4</th>\n",
       "      <td>Watched Boost Teamwork | Get Your Tone Just Right</td>\n",
       "      <td>https://www.youtube.com/watch?v=Jbir6yDKZUE</td>\n",
       "      <td>2024-03-13T13:08:35.477Z</td>\n",
       "      <td>[YouTube]</td>\n",
       "      <td>[Web &amp; App Activity, YouTube watch history, Yo...</td>\n",
       "      <td>Watched at 8:08 PM</td>\n",
       "      <td>[{'name': 'From Google Ads'}]</td>\n",
       "    </tr>\n",
       "  </tbody>\n",
       "</table>\n",
       "</div>"
      ],
      "text/plain": [
       "                                               title  \\\n",
       "0                             Searched for kaca biru   \n",
       "1                             Searched for statquest   \n",
       "2                    Watched Adonan Sulit Tercampur?   \n",
       "3  Watched #BeraniLebih Lawan Minyak Kayak Asnawi...   \n",
       "4  Watched Boost Teamwork | Get Your Tone Just Right   \n",
       "\n",
       "                                            titleUrl  \\\n",
       "0  https://www.youtube.com/results?search_query=k...   \n",
       "1  https://www.youtube.com/results?search_query=s...   \n",
       "2        https://www.youtube.com/watch?v=IBokV9_H_W8   \n",
       "3        https://www.youtube.com/watch?v=eOas12RHAQ4   \n",
       "4        https://www.youtube.com/watch?v=Jbir6yDKZUE   \n",
       "\n",
       "                       time   products  \\\n",
       "0  2024-03-13T15:09:56.510Z  [YouTube]   \n",
       "1  2024-03-13T14:18:15.610Z  [YouTube]   \n",
       "2  2024-03-13T13:34:04.867Z  [YouTube]   \n",
       "3  2024-03-13T13:33:57.266Z  [YouTube]   \n",
       "4  2024-03-13T13:08:35.477Z  [YouTube]   \n",
       "\n",
       "                                    activityControls         description  \\\n",
       "0                           [YouTube search history]                 NaN   \n",
       "1                           [YouTube search history]                 NaN   \n",
       "2  [Web & App Activity, YouTube watch history, Yo...  Watched at 8:34 PM   \n",
       "3  [Web & App Activity, YouTube watch history, Yo...  Watched at 8:33 PM   \n",
       "4  [Web & App Activity, YouTube watch history, Yo...  Watched at 8:08 PM   \n",
       "\n",
       "                         details  \n",
       "0                            NaN  \n",
       "1                            NaN  \n",
       "2  [{'name': 'From Google Ads'}]  \n",
       "3  [{'name': 'From Google Ads'}]  \n",
       "4  [{'name': 'From Google Ads'}]  "
      ]
     },
     "execution_count": 7,
     "metadata": {},
     "output_type": "execute_result"
    }
   ],
   "source": [
    "df.drop(columns='header',inplace=True)\n",
    "df.head(5)"
   ]
  },
  {
   "cell_type": "markdown",
   "id": "9d636314-569f-456a-98e6-af4327f0f67d",
   "metadata": {},
   "source": [
    "## Details Column"
   ]
  },
  {
   "cell_type": "code",
   "execution_count": 8,
   "id": "72d4fbf8-d485-4687-8090-380e559d7e10",
   "metadata": {},
   "outputs": [
    {
     "data": {
      "text/plain": [
       "details\n",
       "[{'name': 'From Google Ads'}]    42\n",
       "Name: count, dtype: int64"
      ]
     },
     "execution_count": 8,
     "metadata": {},
     "output_type": "execute_result"
    }
   ],
   "source": [
    "df['details'].value_counts()"
   ]
  },
  {
   "cell_type": "code",
   "execution_count": 9,
   "id": "d867f359-e0c4-4532-9039-ebddbfd6bad0",
   "metadata": {
    "tags": []
   },
   "outputs": [],
   "source": [
    "df = df[df['details'].isna()]"
   ]
  },
  {
   "cell_type": "code",
   "execution_count": 10,
   "id": "0d83250b-0dba-46ca-9f24-7ed29ea9e7b7",
   "metadata": {},
   "outputs": [],
   "source": [
    "df.drop(columns='details',inplace=True)"
   ]
  },
  {
   "cell_type": "markdown",
   "id": "08f290d4-f388-4304-b220-b948749d3254",
   "metadata": {},
   "source": [
    "## Products Column"
   ]
  },
  {
   "cell_type": "markdown",
   "id": "e5e50dd9-fe70-4539-b9d2-8ab4de6dfaed",
   "metadata": {},
   "source": [
    "### Drop Products Column"
   ]
  },
  {
   "cell_type": "code",
   "execution_count": 11,
   "id": "dcdc2e93-bc59-4be5-b821-f35416d919e7",
   "metadata": {
    "tags": []
   },
   "outputs": [],
   "source": [
    "df.drop(columns=['products'],inplace=True)"
   ]
  },
  {
   "cell_type": "markdown",
   "id": "f87b9044-10a7-4d2e-913f-ab8da931b41d",
   "metadata": {},
   "source": [
    "## activityControls Column"
   ]
  },
  {
   "cell_type": "code",
   "execution_count": 12,
   "id": "1813dda1-f338-4751-9de5-d9ea9edfe9f8",
   "metadata": {
    "tags": []
   },
   "outputs": [
    {
     "data": {
      "text/plain": [
       "activityControls\n",
       "[YouTube search history]    20\n",
       "Name: count, dtype: int64"
      ]
     },
     "execution_count": 12,
     "metadata": {},
     "output_type": "execute_result"
    }
   ],
   "source": [
    "df['activityControls'].value_counts()"
   ]
  },
  {
   "cell_type": "code",
   "execution_count": 13,
   "id": "a57caf89-4e21-4bcf-a367-bc6e318e899c",
   "metadata": {
    "tags": []
   },
   "outputs": [],
   "source": [
    "df['activityControls'] = df['activityControls'].apply(lambda row: row[0])"
   ]
  },
  {
   "cell_type": "markdown",
   "id": "a0dde952-f82b-4665-96a6-8ac14d57b327",
   "metadata": {},
   "source": [
    "## Description Column"
   ]
  },
  {
   "cell_type": "code",
   "execution_count": 14,
   "id": "bed6a2ab-3c04-4a27-9db6-a8656f968e70",
   "metadata": {
    "tags": []
   },
   "outputs": [
    {
     "data": {
      "text/plain": [
       "Series([], Name: count, dtype: int64)"
      ]
     },
     "execution_count": 14,
     "metadata": {},
     "output_type": "execute_result"
    }
   ],
   "source": [
    "df['description'].value_counts()"
   ]
  },
  {
   "cell_type": "code",
   "execution_count": 15,
   "id": "c9b3730f-7c14-4ce9-afa8-374dd7de0999",
   "metadata": {
    "tags": []
   },
   "outputs": [],
   "source": [
    "df.drop(columns='description',inplace=True)"
   ]
  },
  {
   "cell_type": "markdown",
   "id": "5e9b3234-b7ed-49c9-b591-77013da940b3",
   "metadata": {},
   "source": [
    "## Time Column"
   ]
  },
  {
   "cell_type": "code",
   "execution_count": 16,
   "id": "3512e8d2-4476-4ea0-9104-72958996851e",
   "metadata": {},
   "outputs": [],
   "source": [
    "df['time'] = pd.to_datetime(df['time'])"
   ]
  },
  {
   "cell_type": "markdown",
   "id": "f673b4dc-d24f-4365-b695-9dd8711849e2",
   "metadata": {},
   "source": [
    "## Spliting Query From titleUrl"
   ]
  },
  {
   "cell_type": "markdown",
   "id": "9b9e81f8-2f63-4742-a96f-f5fd0aa4e4bd",
   "metadata": {},
   "source": [
    "### Check Value Format"
   ]
  },
  {
   "cell_type": "code",
   "execution_count": 17,
   "id": "9a511d24-3615-4376-a722-33ddde7f936d",
   "metadata": {
    "tags": []
   },
   "outputs": [
    {
     "data": {
      "text/plain": [
       "'https://www.youtube.com/results?search_query=kaca+biru'"
      ]
     },
     "execution_count": 17,
     "metadata": {},
     "output_type": "execute_result"
    }
   ],
   "source": [
    "df['titleUrl'].loc[0]"
   ]
  },
  {
   "cell_type": "markdown",
   "id": "1a271bd3-1bf4-4a1d-b761-5114a539e96e",
   "metadata": {},
   "source": [
    "### Spliting"
   ]
  },
  {
   "cell_type": "code",
   "execution_count": 18,
   "id": "f0d4e59b-a6dc-4ff5-9e35-b6991d7c22ab",
   "metadata": {
    "tags": []
   },
   "outputs": [],
   "source": [
    "df['query'] = df['titleUrl'].apply(lambda row: row[45:])"
   ]
  },
  {
   "cell_type": "markdown",
   "id": "fbf16dd8-4d5c-4c83-9e41-292939999ee1",
   "metadata": {},
   "source": [
    "## Final Preview Data"
   ]
  },
  {
   "cell_type": "code",
   "execution_count": 19,
   "id": "cffcd5ec-1fa2-4421-8554-8820dd2ac6ba",
   "metadata": {
    "tags": []
   },
   "outputs": [
    {
     "data": {
      "text/html": [
       "<div>\n",
       "<style scoped>\n",
       "    .dataframe tbody tr th:only-of-type {\n",
       "        vertical-align: middle;\n",
       "    }\n",
       "\n",
       "    .dataframe tbody tr th {\n",
       "        vertical-align: top;\n",
       "    }\n",
       "\n",
       "    .dataframe thead th {\n",
       "        text-align: right;\n",
       "    }\n",
       "</style>\n",
       "<table border=\"1\" class=\"dataframe\">\n",
       "  <thead>\n",
       "    <tr style=\"text-align: right;\">\n",
       "      <th></th>\n",
       "      <th>title</th>\n",
       "      <th>titleUrl</th>\n",
       "      <th>time</th>\n",
       "      <th>activityControls</th>\n",
       "      <th>query</th>\n",
       "    </tr>\n",
       "  </thead>\n",
       "  <tbody>\n",
       "    <tr>\n",
       "      <th>0</th>\n",
       "      <td>Searched for kaca biru</td>\n",
       "      <td>https://www.youtube.com/results?search_query=k...</td>\n",
       "      <td>2024-03-13 15:09:56.510000+00:00</td>\n",
       "      <td>YouTube search history</td>\n",
       "      <td>kaca+biru</td>\n",
       "    </tr>\n",
       "    <tr>\n",
       "      <th>1</th>\n",
       "      <td>Searched for statquest</td>\n",
       "      <td>https://www.youtube.com/results?search_query=s...</td>\n",
       "      <td>2024-03-13 14:18:15.610000+00:00</td>\n",
       "      <td>YouTube search history</td>\n",
       "      <td>statquest</td>\n",
       "    </tr>\n",
       "    <tr>\n",
       "      <th>5</th>\n",
       "      <td>Searched for frieren</td>\n",
       "      <td>https://www.youtube.com/results?search_query=f...</td>\n",
       "      <td>2024-03-13 13:06:36.537000+00:00</td>\n",
       "      <td>YouTube search history</td>\n",
       "      <td>frieren</td>\n",
       "    </tr>\n",
       "    <tr>\n",
       "      <th>6</th>\n",
       "      <td>Searched for kobo kanaeru</td>\n",
       "      <td>https://www.youtube.com/results?search_query=k...</td>\n",
       "      <td>2024-03-13 13:03:03.778000+00:00</td>\n",
       "      <td>YouTube search history</td>\n",
       "      <td>kobo+kanaeru</td>\n",
       "    </tr>\n",
       "    <tr>\n",
       "      <th>7</th>\n",
       "      <td>Searched for muse in classroom of the elite</td>\n",
       "      <td>https://www.youtube.com/results?search_query=m...</td>\n",
       "      <td>2024-03-13 13:00:56.703000+00:00</td>\n",
       "      <td>YouTube search history</td>\n",
       "      <td>muse+in+classroom+of+the+elite+</td>\n",
       "    </tr>\n",
       "    <tr>\n",
       "      <th>16</th>\n",
       "      <td>Searched for stardenburdenhardenbart</td>\n",
       "      <td>https://www.youtube.com/results?search_query=s...</td>\n",
       "      <td>2024-03-13 09:12:49.769000+00:00</td>\n",
       "      <td>YouTube search history</td>\n",
       "      <td>stardenburdenhardenbart</td>\n",
       "    </tr>\n",
       "    <tr>\n",
       "      <th>25</th>\n",
       "      <td>Searched for shinmei</td>\n",
       "      <td>https://www.youtube.com/results?search_query=s...</td>\n",
       "      <td>2024-03-12 20:37:02.916000+00:00</td>\n",
       "      <td>YouTube search history</td>\n",
       "      <td>shinmei</td>\n",
       "    </tr>\n",
       "    <tr>\n",
       "      <th>29</th>\n",
       "      <td>Searched for muse indonesia frieren</td>\n",
       "      <td>https://www.youtube.com/results?search_query=m...</td>\n",
       "      <td>2024-03-12 19:44:35.049000+00:00</td>\n",
       "      <td>YouTube search history</td>\n",
       "      <td>muse+indonesia+frieren</td>\n",
       "    </tr>\n",
       "    <tr>\n",
       "      <th>38</th>\n",
       "      <td>Searched for shinmei</td>\n",
       "      <td>https://www.youtube.com/results?search_query=s...</td>\n",
       "      <td>2024-03-12 12:36:57.581000+00:00</td>\n",
       "      <td>YouTube search history</td>\n",
       "      <td>shinmei</td>\n",
       "    </tr>\n",
       "    <tr>\n",
       "      <th>39</th>\n",
       "      <td>Searched for toho color</td>\n",
       "      <td>https://www.youtube.com/results?search_query=t...</td>\n",
       "      <td>2024-03-12 07:38:58.277000+00:00</td>\n",
       "      <td>YouTube search history</td>\n",
       "      <td>toho+color</td>\n",
       "    </tr>\n",
       "    <tr>\n",
       "      <th>44</th>\n",
       "      <td>Searched for hanani natte</td>\n",
       "      <td>https://www.youtube.com/results?search_query=h...</td>\n",
       "      <td>2024-03-11 09:44:10.585000+00:00</td>\n",
       "      <td>YouTube search history</td>\n",
       "      <td>hanani+natte</td>\n",
       "    </tr>\n",
       "    <tr>\n",
       "      <th>46</th>\n",
       "      <td>Searched for resist and bite</td>\n",
       "      <td>https://www.youtube.com/results?search_query=r...</td>\n",
       "      <td>2024-03-11 09:13:41.207000+00:00</td>\n",
       "      <td>YouTube search history</td>\n",
       "      <td>resist+and+bite</td>\n",
       "    </tr>\n",
       "    <tr>\n",
       "      <th>51</th>\n",
       "      <td>Searched for zoltraak</td>\n",
       "      <td>https://www.youtube.com/results?search_query=z...</td>\n",
       "      <td>2024-03-11 03:18:44.011000+00:00</td>\n",
       "      <td>YouTube search history</td>\n",
       "      <td>zoltraak</td>\n",
       "    </tr>\n",
       "    <tr>\n",
       "      <th>53</th>\n",
       "      <td>Searched for dr richard lee</td>\n",
       "      <td>https://www.youtube.com/results?search_query=d...</td>\n",
       "      <td>2024-03-10 15:13:10.354000+00:00</td>\n",
       "      <td>YouTube search history</td>\n",
       "      <td>dr+richard+lee</td>\n",
       "    </tr>\n",
       "    <tr>\n",
       "      <th>56</th>\n",
       "      <td>Searched for kurnia meiga</td>\n",
       "      <td>https://www.youtube.com/results?search_query=k...</td>\n",
       "      <td>2024-03-09 18:42:12.300000+00:00</td>\n",
       "      <td>YouTube search history</td>\n",
       "      <td>kurnia+meiga</td>\n",
       "    </tr>\n",
       "    <tr>\n",
       "      <th>57</th>\n",
       "      <td>Searched for deddy corbuzier</td>\n",
       "      <td>https://www.youtube.com/results?search_query=d...</td>\n",
       "      <td>2024-03-09 18:42:01.436000+00:00</td>\n",
       "      <td>YouTube search history</td>\n",
       "      <td>deddy+corbuzier</td>\n",
       "    </tr>\n",
       "    <tr>\n",
       "      <th>58</th>\n",
       "      <td>Searched for gawr gura</td>\n",
       "      <td>https://www.youtube.com/results?search_query=g...</td>\n",
       "      <td>2024-03-09 18:41:38.017000+00:00</td>\n",
       "      <td>YouTube search history</td>\n",
       "      <td>gawr+gura</td>\n",
       "    </tr>\n",
       "    <tr>\n",
       "      <th>59</th>\n",
       "      <td>Searched for tensorflow</td>\n",
       "      <td>https://www.youtube.com/results?search_query=t...</td>\n",
       "      <td>2024-03-09 18:40:57.013000+00:00</td>\n",
       "      <td>YouTube search history</td>\n",
       "      <td>tensorflow</td>\n",
       "    </tr>\n",
       "    <tr>\n",
       "      <th>60</th>\n",
       "      <td>Searched for statquest</td>\n",
       "      <td>https://www.youtube.com/results?search_query=s...</td>\n",
       "      <td>2024-03-09 18:40:30.574000+00:00</td>\n",
       "      <td>YouTube search history</td>\n",
       "      <td>statquest</td>\n",
       "    </tr>\n",
       "    <tr>\n",
       "      <th>61</th>\n",
       "      <td>Searched for statquest</td>\n",
       "      <td>https://www.youtube.com/results?search_query=s...</td>\n",
       "      <td>2024-03-09 17:44:07.141000+00:00</td>\n",
       "      <td>YouTube search history</td>\n",
       "      <td>statquest</td>\n",
       "    </tr>\n",
       "  </tbody>\n",
       "</table>\n",
       "</div>"
      ],
      "text/plain": [
       "                                           title  \\\n",
       "0                         Searched for kaca biru   \n",
       "1                         Searched for statquest   \n",
       "5                           Searched for frieren   \n",
       "6                      Searched for kobo kanaeru   \n",
       "7   Searched for muse in classroom of the elite    \n",
       "16          Searched for stardenburdenhardenbart   \n",
       "25                          Searched for shinmei   \n",
       "29           Searched for muse indonesia frieren   \n",
       "38                          Searched for shinmei   \n",
       "39                       Searched for toho color   \n",
       "44                     Searched for hanani natte   \n",
       "46                  Searched for resist and bite   \n",
       "51                         Searched for zoltraak   \n",
       "53                   Searched for dr richard lee   \n",
       "56                     Searched for kurnia meiga   \n",
       "57                  Searched for deddy corbuzier   \n",
       "58                        Searched for gawr gura   \n",
       "59                       Searched for tensorflow   \n",
       "60                        Searched for statquest   \n",
       "61                        Searched for statquest   \n",
       "\n",
       "                                             titleUrl  \\\n",
       "0   https://www.youtube.com/results?search_query=k...   \n",
       "1   https://www.youtube.com/results?search_query=s...   \n",
       "5   https://www.youtube.com/results?search_query=f...   \n",
       "6   https://www.youtube.com/results?search_query=k...   \n",
       "7   https://www.youtube.com/results?search_query=m...   \n",
       "16  https://www.youtube.com/results?search_query=s...   \n",
       "25  https://www.youtube.com/results?search_query=s...   \n",
       "29  https://www.youtube.com/results?search_query=m...   \n",
       "38  https://www.youtube.com/results?search_query=s...   \n",
       "39  https://www.youtube.com/results?search_query=t...   \n",
       "44  https://www.youtube.com/results?search_query=h...   \n",
       "46  https://www.youtube.com/results?search_query=r...   \n",
       "51  https://www.youtube.com/results?search_query=z...   \n",
       "53  https://www.youtube.com/results?search_query=d...   \n",
       "56  https://www.youtube.com/results?search_query=k...   \n",
       "57  https://www.youtube.com/results?search_query=d...   \n",
       "58  https://www.youtube.com/results?search_query=g...   \n",
       "59  https://www.youtube.com/results?search_query=t...   \n",
       "60  https://www.youtube.com/results?search_query=s...   \n",
       "61  https://www.youtube.com/results?search_query=s...   \n",
       "\n",
       "                               time        activityControls  \\\n",
       "0  2024-03-13 15:09:56.510000+00:00  YouTube search history   \n",
       "1  2024-03-13 14:18:15.610000+00:00  YouTube search history   \n",
       "5  2024-03-13 13:06:36.537000+00:00  YouTube search history   \n",
       "6  2024-03-13 13:03:03.778000+00:00  YouTube search history   \n",
       "7  2024-03-13 13:00:56.703000+00:00  YouTube search history   \n",
       "16 2024-03-13 09:12:49.769000+00:00  YouTube search history   \n",
       "25 2024-03-12 20:37:02.916000+00:00  YouTube search history   \n",
       "29 2024-03-12 19:44:35.049000+00:00  YouTube search history   \n",
       "38 2024-03-12 12:36:57.581000+00:00  YouTube search history   \n",
       "39 2024-03-12 07:38:58.277000+00:00  YouTube search history   \n",
       "44 2024-03-11 09:44:10.585000+00:00  YouTube search history   \n",
       "46 2024-03-11 09:13:41.207000+00:00  YouTube search history   \n",
       "51 2024-03-11 03:18:44.011000+00:00  YouTube search history   \n",
       "53 2024-03-10 15:13:10.354000+00:00  YouTube search history   \n",
       "56 2024-03-09 18:42:12.300000+00:00  YouTube search history   \n",
       "57 2024-03-09 18:42:01.436000+00:00  YouTube search history   \n",
       "58 2024-03-09 18:41:38.017000+00:00  YouTube search history   \n",
       "59 2024-03-09 18:40:57.013000+00:00  YouTube search history   \n",
       "60 2024-03-09 18:40:30.574000+00:00  YouTube search history   \n",
       "61 2024-03-09 17:44:07.141000+00:00  YouTube search history   \n",
       "\n",
       "                              query  \n",
       "0                         kaca+biru  \n",
       "1                         statquest  \n",
       "5                           frieren  \n",
       "6                      kobo+kanaeru  \n",
       "7   muse+in+classroom+of+the+elite+  \n",
       "16          stardenburdenhardenbart  \n",
       "25                          shinmei  \n",
       "29           muse+indonesia+frieren  \n",
       "38                          shinmei  \n",
       "39                       toho+color  \n",
       "44                     hanani+natte  \n",
       "46                  resist+and+bite  \n",
       "51                         zoltraak  \n",
       "53                   dr+richard+lee  \n",
       "56                     kurnia+meiga  \n",
       "57                  deddy+corbuzier  \n",
       "58                        gawr+gura  \n",
       "59                       tensorflow  \n",
       "60                        statquest  \n",
       "61                        statquest  "
      ]
     },
     "execution_count": 19,
     "metadata": {},
     "output_type": "execute_result"
    }
   ],
   "source": [
    "df"
   ]
  },
  {
   "cell_type": "markdown",
   "id": "839729c0-6825-49a1-87d7-e4288177be1b",
   "metadata": {},
   "source": [
    "## Save Data"
   ]
  },
  {
   "cell_type": "code",
   "execution_count": 20,
   "id": "9ff630e7-4b2f-453e-9c77-0193e3ffb28b",
   "metadata": {
    "tags": []
   },
   "outputs": [],
   "source": [
    "df.to_csv('C:/Users/snsv/Documents/Data Analyst/personal youtube analysis/data/preprocessed/search_history.csv',index=False)"
   ]
  }
 ],
 "metadata": {
  "kernelspec": {
   "display_name": "Python 3 (ipykernel)",
   "language": "python",
   "name": "python3"
  },
  "language_info": {
   "codemirror_mode": {
    "name": "ipython",
    "version": 3
   },
   "file_extension": ".py",
   "mimetype": "text/x-python",
   "name": "python",
   "nbconvert_exporter": "python",
   "pygments_lexer": "ipython3",
   "version": "3.11.5"
  }
 },
 "nbformat": 4,
 "nbformat_minor": 5
}
